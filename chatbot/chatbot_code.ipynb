{
  "nbformat": 4,
  "nbformat_minor": 0,
  "metadata": {
    "colab": {
      "provenance": []
    },
    "kernelspec": {
      "name": "python3",
      "display_name": "Python 3"
    },
    "language_info": {
      "name": "python"
    }
  },
  "cells": [
    {
      "cell_type": "code",
      "source": [
        "pip install -U langchain-community\n"
      ],
      "metadata": {
        "id": "scr6-tQN42RE"
      },
      "execution_count": null,
      "outputs": []
    },
    {
      "cell_type": "code",
      "source": [
        "pip install flask langchain openai beautifulsoup4 requests\n",
        "\n"
      ],
      "metadata": {
        "id": "U9TojZei5u6G"
      },
      "execution_count": null,
      "outputs": []
    },
    {
      "cell_type": "code",
      "source": [
        "pip install faiss-cpu"
      ],
      "metadata": {
        "id": "Q-cjv7W2485D"
      },
      "execution_count": null,
      "outputs": []
    },
    {
      "cell_type": "code",
      "source": [
        "pip install sentence-transformers\n"
      ],
      "metadata": {
        "id": "lI04b6Xd4871"
      },
      "execution_count": null,
      "outputs": []
    },
    {
      "cell_type": "code",
      "source": [
        "pip install flask langchain openai faiss-cpu sentence-transformers beautifulsoup4 requests python-dotenv\n"
      ],
      "metadata": {
        "id": "ZIO9id_85HTF"
      },
      "execution_count": null,
      "outputs": []
    },
    {
      "cell_type": "code",
      "source": [
        "pip install faiss-cpu\n"
      ],
      "metadata": {
        "id": "X3peYClF5MPh"
      },
      "execution_count": null,
      "outputs": []
    },
    {
      "cell_type": "code",
      "source": [
        "pip install gunicorn pyngrok\n"
      ],
      "metadata": {
        "id": "DylsMyNm5MW0"
      },
      "execution_count": null,
      "outputs": []
    },
    {
      "cell_type": "code",
      "source": [
        "pip install flask selenium webdriver-manager langchain faiss-cpu transformers pyngrok\n"
      ],
      "metadata": {
        "id": "PAuHq0ZY5Mjw"
      },
      "execution_count": null,
      "outputs": []
    },
    {
      "cell_type": "code",
      "source": [
        "!sudo apt install -y chromium-browser"
      ],
      "metadata": {
        "id": "K8tfrCvq5XTr"
      },
      "execution_count": null,
      "outputs": []
    },
    {
      "cell_type": "code",
      "source": [
        "pip install python-dotenv"
      ],
      "metadata": {
        "id": "_GalJswU5XcL"
      },
      "execution_count": null,
      "outputs": []
    },
    {
      "cell_type": "code",
      "source": [
        "# api key - sk-proj-7zM7fxSz893IEeP481o7Kk2yEcY0MJnKqC9cg7wqT51wM930pdzDVILvChsgvl-CEk4CKLxapRT3BlbkFJDnt2jTZblgH5vBSAFMxq2lK6BwE0G4_K5uEupwrTxeHhSmjn_dKi8h0_nYsAA\n",
        "# URL = \"https://brainlox.com/courses/category/technical\"\n",
        "# ngrok_auth_token = \"2sLHxLr6pR4N5vBZwV2XB33udBd_4683LAcSLYnqkpJ1k8esx\""
      ],
      "metadata": {
        "id": "79KkCDLEu6cV"
      },
      "execution_count": null,
      "outputs": []
    },
    {
      "cell_type": "code",
      "source": [
        "import os\n",
        "import json\n",
        "from flask import Flask, request, jsonify\n",
        "from langchain.document_loaders import WebBaseLoader\n",
        "from langchain.embeddings import HuggingFaceEmbeddings\n",
        "from langchain.vectorstores import FAISS\n",
        "from langchain.llms import OpenAI\n",
        "from langchain.chains import ConversationalRetrievalChain\n",
        "from langchain.memory import ConversationBufferMemory\n",
        "from langchain.schema import Document\n",
        "\n",
        "# ✅ Securely load OpenAI API key\n",
        "openai_api_key = \"sk-proj-7zM7fxSz893IEeP481o7Kk2yEcY0MJnKqC9cg7wqT51wM930pdzDVILvChsgvl-CEk4CKLxapRT3BlbkFJDnt2jTZblgH5vBSAFMxq2lK6BwE0G4_K5uEupwrTxeHhSmjn_dKi8h0_nYsAA\"\n",
        "\n",
        "if not openai_api_key:\n",
        "    raise ValueError(\"❌ OpenAI API key is missing.\")\n",
        "else:\n",
        "    print(\"✅ OpenAI API Key loaded successfully.\")\n",
        "\n",
        "# ✅ Step 1: Extract and Validate Data from Brainlox\n",
        "URL = \"https://brainlox.com/courses/category/technical\"\n",
        "\n",
        "try:\n",
        "    loader = WebBaseLoader(URL)\n",
        "    raw_documents = loader.load()\n",
        "\n",
        "    if not raw_documents:\n",
        "        raise ValueError(\"❌ No documents loaded. The website might require JavaScript rendering.\")\n",
        "\n",
        "    # Ensure we load at least 10 documents\n",
        "    documents = [\n",
        "        Document(page_content=doc.page_content, metadata={\"source\": doc.metadata.get(\"source\", URL)})\n",
        "        for doc in raw_documents[:10]  # Only take first 10 docs\n",
        "    ]\n",
        "\n",
        "    print(f\"✅ Loaded {len(documents)} documents from {URL}\")\n",
        "\n",
        "except Exception as e:\n",
        "    print(f\"❌ Error loading documents: {e}\")\n",
        "    documents = []  # Ensure documents is always defined\n",
        "\n",
        "if not documents:\n",
        "    raise ValueError(\"❌ No valid documents found. Try another scraping method.\")\n",
        "\n",
        "# ✅ Step 2: Initialize FAISS Vector Store\n",
        "try:\n",
        "    embeddings = HuggingFaceEmbeddings(model_name=\"sentence-transformers/all-MiniLM-L6-v2\")\n",
        "    texts = [doc.page_content for doc in documents]\n",
        "\n",
        "    # Store in FAISS\n",
        "    db = FAISS.from_texts(texts, embeddings)\n",
        "    db.save_local(\"faiss_index\")  # ✅ Save FAISS index\n",
        "    print(\"✅ FAISS index created and saved.\")\n",
        "\n",
        "    db = FAISS.load_local(\"faiss_index\", embeddings, allow_dangerous_deserialization=True)\n",
        "    retriever = db.as_retriever()\n",
        "    print(\"✅ FAISS vector store loaded successfully.\")\n",
        "\n",
        "except Exception as e:\n",
        "    print(f\"❌ Error initializing FAISS: {e}\")\n",
        "    raise\n",
        "\n",
        "# ✅ Step 3: Initialize LangChain Chat Model\n",
        "try:\n",
        "    llm = OpenAI(api_key=openai_api_key, temperature=0.5)\n",
        "    memory = ConversationBufferMemory(memory_key=\"chat_history\", return_messages=True)\n",
        "\n",
        "    chain = ConversationalRetrievalChain.from_llm(\n",
        "        llm=llm,\n",
        "        retriever=retriever,\n",
        "        memory=memory\n",
        "    )\n",
        "\n",
        "    print(\"✅ LangChain Chat Model initialized successfully.\")\n",
        "\n",
        "except Exception as e:\n",
        "    print(f\"❌ Error initializing ConversationalRetrievalChain: {e}\")\n",
        "    chain = None\n",
        "\n",
        "# ✅ Step 4: Deploy Flask Chatbot with Ngrok\n",
        "from pyngrok import ngrok\n",
        "\n",
        "ngrok.set_auth_token(\"2sLHxLr6pR4N5vBZwV2XB33udBd_4683LAcSLYnqkpJ1k8esx\")\n",
        "\n",
        "public_url = ngrok.connect(5000)\n",
        "print(f\"🌍 Public URL: {public_url}\")\n",
        "\n",
        "# ✅ Step 5: Initialize Flask App\n",
        "app = Flask(__name__)\n",
        "\n",
        "@app.route(\"/chat\", methods=[\"POST\"])\n",
        "def chatbot_response():\n",
        "    \"\"\"Handles chatbot conversation.\"\"\"\n",
        "    if not chain:\n",
        "        return jsonify({\"error\": \"Chatbot is disabled. Set up an OpenAI API key or use a local LLM.\"}), 400\n",
        "\n",
        "    data = request.json\n",
        "    user_input = data.get(\"message\")\n",
        "\n",
        "    if not user_input:\n",
        "        return jsonify({\"error\": \"Message is required\"}), 400\n",
        "\n",
        "    try:\n",
        "        response = chain.run({\"question\": user_input})\n",
        "        return jsonify({\n",
        "            \"response\": response,\n",
        "            \"chat_history\": memory.chat_memory.messages  # ✅ Returns conversation history\n",
        "        })\n",
        "    except Exception as e:\n",
        "        return jsonify({\"error\": str(e)}), 500\n",
        "\n",
        "if __name__ == \"__main__\":\n",
        "    print(f\"🚀 Chatbot server is running on: {public_url}\")\n",
        "    app.run(host=\"0.0.0.0\", port=5000, debug=True)  # ✅ Debug Mode ON\n"
      ],
      "metadata": {
        "id": "UJJA-2-e5l3H"
      },
      "execution_count": null,
      "outputs": []
    }
  ]
}